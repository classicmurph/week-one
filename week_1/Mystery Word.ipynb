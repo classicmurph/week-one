{
 "metadata": {
  "name": "",
  "signature": "sha256:7a20eb0699ca8b4c9b983e220b8b2849a31fa769b50cccf657c081185ff99671"
 },
 "nbformat": 3,
 "nbformat_minor": 0,
 "worksheets": [
  {
   "cells": [
    {
     "cell_type": "markdown",
     "metadata": {},
     "source": [
      "    "
     ]
    },
    {
     "cell_type": "code",
     "collapsed": false,
     "input": [
      "import random\n",
      "\n",
      "with open(\"/usr/share/dict/words\") as w:\n",
      "    word_list = w.readlines()\n",
      "\n",
      "    guess = 0\n",
      "\n",
      "def mystery_word():\n",
      "    print(\"Can you guess the mystery word?\")\n",
      "    random_word = random(word_list)\n",
      "    print(\"The word has {} letters.\".format(len(mystery_word)))\n",
      "\n",
      "\n",
      "mystery_word()"
     ],
     "language": "python",
     "metadata": {},
     "outputs": [
      {
       "output_type": "stream",
       "stream": "stdout",
       "text": [
        "Can you guess the mystery word?\n"
       ]
      },
      {
       "ename": "TypeError",
       "evalue": "'module' object is not callable",
       "output_type": "pyerr",
       "traceback": [
        "\u001b[0;31m---------------------------------------------------------------------------\u001b[0m\n\u001b[0;31mTypeError\u001b[0m                                 Traceback (most recent call last)",
        "\u001b[0;32m<ipython-input-2-72ab070e219c>\u001b[0m in \u001b[0;36m<module>\u001b[0;34m()\u001b[0m\n\u001b[1;32m     12\u001b[0m \u001b[0;34m\u001b[0m\u001b[0m\n\u001b[1;32m     13\u001b[0m \u001b[0;34m\u001b[0m\u001b[0m\n\u001b[0;32m---> 14\u001b[0;31m \u001b[0mmystery_word\u001b[0m\u001b[0;34m(\u001b[0m\u001b[0;34m)\u001b[0m\u001b[0;34m\u001b[0m\u001b[0m\n\u001b[0m",
        "\u001b[0;32m<ipython-input-2-72ab070e219c>\u001b[0m in \u001b[0;36mmystery_word\u001b[0;34m()\u001b[0m\n\u001b[1;32m      8\u001b[0m \u001b[0;32mdef\u001b[0m \u001b[0mmystery_word\u001b[0m\u001b[0;34m(\u001b[0m\u001b[0;34m)\u001b[0m\u001b[0;34m:\u001b[0m\u001b[0;34m\u001b[0m\u001b[0m\n\u001b[1;32m      9\u001b[0m     \u001b[0mprint\u001b[0m\u001b[0;34m(\u001b[0m\u001b[0;34m\"Can you guess the mystery word?\"\u001b[0m\u001b[0;34m)\u001b[0m\u001b[0;34m\u001b[0m\u001b[0m\n\u001b[0;32m---> 10\u001b[0;31m     \u001b[0mrandom_word\u001b[0m \u001b[0;34m=\u001b[0m \u001b[0mrandom\u001b[0m\u001b[0;34m(\u001b[0m\u001b[0mword_list\u001b[0m\u001b[0;34m)\u001b[0m\u001b[0;34m\u001b[0m\u001b[0m\n\u001b[0m\u001b[1;32m     11\u001b[0m     \u001b[0mprint\u001b[0m\u001b[0;34m(\u001b[0m\u001b[0;34m\"The word has {} letters.\"\u001b[0m\u001b[0;34m.\u001b[0m\u001b[0mformat\u001b[0m\u001b[0;34m(\u001b[0m\u001b[0mlen\u001b[0m\u001b[0;34m(\u001b[0m\u001b[0mmystery_word\u001b[0m\u001b[0;34m)\u001b[0m\u001b[0;34m)\u001b[0m\u001b[0;34m)\u001b[0m\u001b[0;34m\u001b[0m\u001b[0m\n\u001b[1;32m     12\u001b[0m \u001b[0;34m\u001b[0m\u001b[0m\n",
        "\u001b[0;31mTypeError\u001b[0m: 'module' object is not callable"
       ]
      }
     ],
     "prompt_number": 2
    },
    {
     "cell_type": "code",
     "collapsed": false,
     "input": [
      "import random\n",
      "\n",
      "with open(\"/usr/share/dict/words\") as w:\n",
      "    word_list = w.readlines()\n",
      "\n",
      "counter = 8\n",
      "\n",
      "def mystery_word():\n",
      "    random_word = random.choice(word_list)\n",
      "    print(random_word)\n",
      "    revealed = []\n",
      "    counter = 8\n",
      "    length = len(random_word)\n",
      "    print(\"The word has {} letters.\".format(length)\n",
      "    print('_ '*len(random_word))\n",
      "    guess = input(\"What letter would you like to guess?  \").lower()\n",
      "    while len(guess) > 1:\n",
      "        guess = input(\"You can only guess one letter at a time. Try again.  \")\n",
      "        if guess in random_word:\n",
      "            revealed.append(guess)\n",
      "            print(revealed)\n",
      "        else:\n",
      "            counter -=1\n",
      "            guess = input(\"Sorry. You have {} guesses left. What letter would you like to guess?  \".format(counter))\n",
      "        \n",
      "\n",
      "                \n",
      "            \n",
      "mystery_word()"
     ],
     "language": "python",
     "metadata": {},
     "outputs": [
      {
       "ename": "SyntaxError",
       "evalue": "invalid syntax (<ipython-input-4-99a3e33d0dda>, line 15)",
       "output_type": "pyerr",
       "traceback": [
        "\u001b[0;36m  File \u001b[0;32m\"<ipython-input-4-99a3e33d0dda>\"\u001b[0;36m, line \u001b[0;32m15\u001b[0m\n\u001b[0;31m    print('_ '*len(random_word))\u001b[0m\n\u001b[0m        ^\u001b[0m\n\u001b[0;31mSyntaxError\u001b[0m\u001b[0;31m:\u001b[0m invalid syntax\n"
       ]
      }
     ],
     "prompt_number": 4
    },
    {
     "cell_type": "code",
     "collapsed": false,
     "input": [
      "import random\n",
      "\n",
      "\n",
      "with open(\"/usr/share/dict/words\") as w:\n",
      "    word_list = w.readlines()\n",
      "\n",
      "random_word = random.choice(word_list).strip().lower()\n",
      "\n",
      "\n",
      "print(random_word)\n",
      "revealed = []\n",
      "counter = 8\n",
      "print(\"The word has {} letters.\".format(len(random_word)))\n",
      "print('_ '*len(random_word))\n",
      "guess = input(\"What letter would you like to guess?  \").lower()\n",
      "while revealed != list(random_word) and counter > 1:\n",
      "    if len(guess) > 1:\n",
      "        guess = input(\"You can only guess one letter at a time. Try again.  \")\n",
      "    elif guess in random_word:\n",
      "        revealed.append(guess)\n",
      "        guess = input(\"Good job. Keep going!  \")\n",
      "        print(\" \".join(char if char in revealed else \"_\" for char in random_word))\n",
      "\n",
      "    elif guess not in random_word:\n",
      "        counter -=1\n",
      "        guess = input(\"Sorry. You have {} guesses left. Try again.  \".format(counter))\n",
      "    elif guess in revealed:\n",
      "        guess = input(\"You already knew that. Try again.  \")\n",
      "    elif str(revealed) == random_word:\n",
      "        print(\"Congratulations! The Mystery Word is {}.\".format(random_word))\n",
      "else:\n",
      "    print(\"You lost. The word was {}.\".format(random_word))\n",
      "    \n",
      "\n",
      "\n"
     ],
     "language": "python",
     "metadata": {},
     "outputs": [
      {
       "output_type": "stream",
       "stream": "stdout",
       "text": [
        "hoggishly\n",
        "The word has 9 letters.\n",
        "_ _ _ _ _ _ _ _ _ \n"
       ]
      },
      {
       "name": "stdout",
       "output_type": "stream",
       "stream": "stdout",
       "text": [
        "What letter would you like to guess?  a\n"
       ]
      },
      {
       "name": "stdout",
       "output_type": "stream",
       "stream": "stdout",
       "text": [
        "Sorry. You have 7 guesses left. Try again.  e\n"
       ]
      },
      {
       "name": "stdout",
       "output_type": "stream",
       "stream": "stdout",
       "text": [
        "Sorry. You have 6 guesses left. Try again.  g\n"
       ]
      },
      {
       "name": "stdout",
       "output_type": "stream",
       "stream": "stdout",
       "text": [
        "Good job. Keep going!  a\n"
       ]
      },
      {
       "output_type": "stream",
       "stream": "stdout",
       "text": [
        "_ _ g g _ _ _ _ _\n"
       ]
      },
      {
       "name": "stdout",
       "output_type": "stream",
       "stream": "stdout",
       "text": [
        "Sorry. You have 5 guesses left. Try again.  l\n"
       ]
      },
      {
       "name": "stdout",
       "output_type": "stream",
       "stream": "stdout",
       "text": [
        "Good job. Keep going!  y\n"
       ]
      },
      {
       "output_type": "stream",
       "stream": "stdout",
       "text": [
        "_ _ g g _ _ _ l _\n"
       ]
      },
      {
       "name": "stdout",
       "output_type": "stream",
       "stream": "stdout",
       "text": [
        "Good job. Keep going!  ch\n"
       ]
      },
      {
       "output_type": "stream",
       "stream": "stdout",
       "text": [
        "_ _ g g _ _ _ l y\n"
       ]
      },
      {
       "name": "stdout",
       "output_type": "stream",
       "stream": "stdout",
       "text": [
        "You can only guess one letter at a time. Try again.  c\n"
       ]
      },
      {
       "name": "stdout",
       "output_type": "stream",
       "stream": "stdout",
       "text": [
        "Sorry. You have 4 guesses left. Try again.  o\n"
       ]
      },
      {
       "name": "stdout",
       "output_type": "stream",
       "stream": "stdout",
       "text": [
        "Good job. Keep going!  i\n"
       ]
      },
      {
       "output_type": "stream",
       "stream": "stdout",
       "text": [
        "_ o g g _ _ _ l y\n"
       ]
      }
     ]
    },
    {
     "cell_type": "markdown",
     "metadata": {},
     "source": [
      "I should probably have a few functions here: get_word(), gameplay(get_word), display(gameplay)"
     ]
    },
    {
     "cell_type": "code",
     "collapsed": false,
     "input": [],
     "language": "python",
     "metadata": {},
     "outputs": []
    },
    {
     "cell_type": "code",
     "collapsed": false,
     "input": [
      "import random\n",
      "with open(\"/usr/share/dict/words\") as w:\n",
      "    word_list = w.readlines()\n",
      "\n",
      "counter = 8\n",
      "random_word = \"mystery\"\n",
      "guessed = []\n",
      "revealed = []\n",
      "guess = \"input\"\n",
      "\n",
      "def random_word_assignment():\n",
      "    global random_word\n",
      "    random_word = random.choice(word_list).strip()\n",
      "    return random_word\n",
      "\n",
      "def game_intro(random_word, counter):\n",
      "    print_statement = \"The word has {} letters. You have {} guesses.\".format(len(random_word), counter)\n",
      "    print(print_statement)\n",
      "    return print_statement\n",
      "#add to display function    print('_ '*len(random_word))\n",
      "\n",
      "def change_count_guess(counter):\n",
      "    if guess not in random_word:\n",
      "        counter -= 1\n",
      "        guessed.append(guess)\n",
      "    return counter\n",
      "    display_counter()\n",
      "\n",
      "def correct_guess(guess):\n",
      "    if guess in random_word:\n",
      "        revealed.append(guess)\n",
      "    return revealed\n",
      "\n",
      "def display_correct_guesses(guess):\n",
      "    print(\" \".join(char if char in revealed else \"_\" for char in random_word))\n",
      "    return (\" \".join(char if char in revealed else \"_\" for char in random_word))\n",
      "\n",
      "def display_counter():\n",
      "    print(\"Wrong. You have {} tries left.\".format(counter))\n",
      "\n",
      "def get_guess():\n",
      "    guess = input(\"What's your guess?  \")\n",
      "    return str(guess)\n",
      "\n",
      "while True:\n",
      "\n",
      "    game_intro(random_word_assignment(), counter)\n",
      "    while revealed != random_word:\n",
      "        get_guess()\n",
      "\n",
      "        correct_guess(guess)\n",
      "        change_count_guess(counter)\n",
      "        display_correct_guesses(guess)\n",
      "    break\n"
     ],
     "language": "python",
     "metadata": {},
     "outputs": [
      {
       "output_type": "stream",
       "stream": "stdout",
       "text": [
        "The word has 6 letters. You have 8 guesses.\n"
       ]
      },
      {
       "name": "stdout",
       "output_type": "stream",
       "stream": "stdout",
       "text": [
        "What's your guess?  a\n"
       ]
      },
      {
       "output_type": "stream",
       "stream": "stdout",
       "text": [
        "_ _ _ _ _ _\n"
       ]
      },
      {
       "name": "stdout",
       "output_type": "stream",
       "stream": "stdout",
       "text": [
        "What's your guess?  s\n"
       ]
      },
      {
       "output_type": "stream",
       "stream": "stdout",
       "text": [
        "_ _ _ _ _ _\n"
       ]
      },
      {
       "name": "stdout",
       "output_type": "stream",
       "stream": "stdout",
       "text": [
        "What's your guess?  d\n"
       ]
      },
      {
       "output_type": "stream",
       "stream": "stdout",
       "text": [
        "_ _ _ _ _ _\n"
       ]
      },
      {
       "name": "stdout",
       "output_type": "stream",
       "stream": "stdout",
       "text": [
        "What's your guess?  c\n"
       ]
      },
      {
       "output_type": "stream",
       "stream": "stdout",
       "text": [
        "_ _ _ _ _ _\n"
       ]
      },
      {
       "name": "stdout",
       "output_type": "stream",
       "stream": "stdout",
       "text": [
        "What's your guess?  v\n"
       ]
      },
      {
       "output_type": "stream",
       "stream": "stdout",
       "text": [
        "_ _ _ _ _ _\n"
       ]
      },
      {
       "name": "stdout",
       "output_type": "stream",
       "stream": "stdout",
       "text": [
        "What's your guess?  g\n"
       ]
      },
      {
       "output_type": "stream",
       "stream": "stdout",
       "text": [
        "_ _ _ _ _ _\n"
       ]
      },
      {
       "name": "stdout",
       "output_type": "stream",
       "stream": "stdout",
       "text": [
        "What's your guess?  h\n"
       ]
      },
      {
       "output_type": "stream",
       "stream": "stdout",
       "text": [
        "_ _ _ _ _ _\n"
       ]
      },
      {
       "name": "stdout",
       "output_type": "stream",
       "stream": "stdout",
       "text": [
        "What's your guess?  j\n"
       ]
      },
      {
       "output_type": "stream",
       "stream": "stdout",
       "text": [
        "_ _ _ _ _ _\n"
       ]
      },
      {
       "name": "stdout",
       "output_type": "stream",
       "stream": "stdout",
       "text": [
        "What's your guess?  u\n"
       ]
      },
      {
       "output_type": "stream",
       "stream": "stdout",
       "text": [
        "_ _ _ _ _ _\n"
       ]
      },
      {
       "name": "stdout",
       "output_type": "stream",
       "stream": "stdout",
       "text": [
        "What's your guess?  i\n"
       ]
      },
      {
       "output_type": "stream",
       "stream": "stdout",
       "text": [
        "_ _ _ _ _ _\n"
       ]
      },
      {
       "name": "stdout",
       "output_type": "stream",
       "stream": "stdout",
       "text": [
        "What's your guess?  o\n"
       ]
      },
      {
       "output_type": "stream",
       "stream": "stdout",
       "text": [
        "_ _ _ _ _ _\n"
       ]
      }
     ]
    },
    {
     "cell_type": "code",
     "collapsed": false,
     "input": [],
     "language": "python",
     "metadata": {},
     "outputs": []
    },
    {
     "cell_type": "heading",
     "level": 1,
     "metadata": {},
     "source": [
      "Pep8 Pass --->\n"
     ]
    },
    {
     "cell_type": "raw",
     "metadata": {},
     "source": [
      "import random\n",
      "with open(\"/usr/share/dict/words\") as w:\n",
      "    word_list = w.readlines()\n",
      "\n",
      "counter = 8\n",
      "# random_word = \"mystery\"\n",
      "guessed = []\n",
      "revealed = []\n",
      "# guess = \"input\"\n",
      "\n",
      "\n",
      "def random_word_assignment():\n",
      "    global random_word\n",
      "    random_word = random.choice(word_list).strip()\n",
      "    return random_word\n",
      "\n",
      "\n",
      "def game_intro(random_word, counter):\n",
      "    print_statement = \"The word has {} letters. You have {} guesses.\".format(len(random_word), \n",
      "                                                                             counter)\n",
      "    print(print_statement)\n",
      "    return print_statement\n",
      "\n",
      "\n",
      "# add to display function    print('_ '*len(random_word))\n",
      "\n",
      "\n",
      "def change_count_guess(counter):\n",
      "    if guess not in random_word:\n",
      "        counter -= 1\n",
      "        guessed.append(guess)\n",
      "        print(\"You have {} guesses left.\".format(counter))\n",
      "    return counter\n",
      "\n",
      "def display_counter():\n",
      "    print(\"You have {} guesses left.\".format(counter))\n",
      "\n",
      "def correct_guess(guess):\n",
      "    if guess in random_word:\n",
      "        revealed.append(guess)\n",
      "    return revealed\n",
      "\n",
      "\n",
      "def display_correct_guesses(guess):\n",
      "    print(\" \".join(char if char in revealed else \"_\" for char in random_word))\n",
      "    return (\" \".join(char if char in revealed else \"_\" for char\n",
      "                                        in random_word))\n",
      "\n",
      "\n",
      "# def get_guess():\n",
      "#     guess = input(\"What's your guess?  \")\n",
      "#     return guess\n",
      "\n",
      "\n",
      "game_intro(random_word_assignment(), counter)\n",
      "while counter > 0:\n",
      "    guess = input(\"What's your guess?  \")\n",
      "    if guess in random_word:\n",
      "        correct_guess(guess)\n",
      "        display_correct_guesses(guess)\n",
      "        print(\"Good job!\") \n",
      "        display_counter()\n",
      "    else:\n",
      "        change_count_guess(counter)\n",
      "        display_correct_guesses(guess)\n",
      "        print(\"Nope\")\n",
      "        \n",
      "        \n",
      "\n",
      "\n"
     ]
    },
    {
     "cell_type": "code",
     "collapsed": false,
     "input": [],
     "language": "python",
     "metadata": {},
     "outputs": [],
     "prompt_number": 0
    },
    {
     "cell_type": "code",
     "collapsed": false,
     "input": [
      "import random\n",
      "import re\n",
      "\n",
      "with open(\"/usr/share/dict/words\") as w:\n",
      "    word_list = w.readlines()\n",
      "\n",
      "counter = 8\n",
      "# random_word = \"mystery\"\n",
      "guessed = []\n",
      "revealed = []\n",
      "# guess = \"input\"\n",
      "\n",
      "\n",
      "def random_word_assignment():\n",
      "    global random_word\n",
      "    random_word = random.choice(word_list).strip()\n",
      "    return random_word\n",
      "\n",
      "\n",
      "def game_intro(random_word, counter):\n",
      "    print_statement = \"The word has {} letters. You have {} guesses.\".format(len(random_word), \n",
      "                                                                             counter)\n",
      "    print(print_statement)\n",
      "    return print_statement\n",
      "\n",
      "\n",
      "# add to display function    print('_ '*len(random_word))\n",
      "\n",
      "\n",
      "def change_count_guess(counter):\n",
      "    if guess not in random_word:\n",
      "        counter -= 1\n",
      "        guessed.append(guess)\n",
      "        print(\"You have {} guesses left.\".format(counter))\n",
      "    return counter\n",
      "\n",
      "def display_counter():\n",
      "    print(\"You have {} guesses left.\".format(counter))\n",
      "\n",
      "def correct_guess(guess):\n",
      "    if guess in random_word:\n",
      "        revealed.append(guess)\n",
      "        print(\"You have {} guesses left.\".format(counter))\n",
      "    return revealed\n",
      "\n",
      "\n",
      "def display_correct_guesses(guess):\n",
      "    print(\" \".join(char if char in revealed else \"_\" for char in random_word))\n",
      "    return (\" \".join(char if char in revealed else \"_\" for char\n",
      "                                        in random_word))\n",
      "\n",
      "\n",
      "def get_guess():\n",
      "    guess = input(\"What's your guess?  \").lower()\n",
      "    if guess in re.search[a-z]:\n",
      "        return guess\n",
      "\n",
      "\n",
      "game_intro(random_word_assignment(), counter)\n",
      "while counter >= 1:\n",
      "    guess = input(\"What's your guess?  \")\n",
      "    if guess in random_word:\n",
      "        correct_guess(guess)\n",
      "        display_correct_guesses(guess)\n",
      "        print(\"Good job!\") \n",
      "        display_counter()\n",
      "    elif guess not in random_word:\n",
      "        change_count_guess(counter)\n",
      "        display_correct_guesses(guess)\n",
      "        print(\"Nope\")\n",
      "    elif guess not in re.search[a-z]:\n",
      "        print(\"{} is not a valid choice. Try again.\".format(guess)\n",
      "              \n",
      "    else:\n",
      "        break\n",
      "\n",
      "\n"
     ],
     "language": "python",
     "metadata": {},
     "outputs": [
      {
       "ename": "SyntaxError",
       "evalue": "invalid syntax (<ipython-input-1-798005ad74fd>, line 74)",
       "output_type": "pyerr",
       "traceback": [
        "\u001b[0;36m  File \u001b[0;32m\"<ipython-input-1-798005ad74fd>\"\u001b[0;36m, line \u001b[0;32m74\u001b[0m\n\u001b[0;31m    else:\u001b[0m\n\u001b[0m       ^\u001b[0m\n\u001b[0;31mSyntaxError\u001b[0m\u001b[0;31m:\u001b[0m invalid syntax\n"
       ]
      }
     ],
     "prompt_number": 1
    },
    {
     "cell_type": "code",
     "collapsed": false,
     "input": [
      "import random\n",
      "import re\n",
      "\n",
      "with open(\"/usr/share/dict/words\") as w:\n",
      "    word_list = w.readlines()\n",
      "\n",
      "counter = 8\n",
      "# random_word = \"mystery\"\n",
      "guessed = []\n",
      "revealed = []\n",
      "# guess = \"input\"\n",
      "\n",
      "\n",
      "def random_word_assignment():\n",
      "    global random_word\n",
      "    random_word = random.choice(word_list).strip()\n",
      "    return random_word\n",
      "\n",
      "\n",
      "def game_intro(random_word, counter):\n",
      "    print_statement = \"The word has {} letters. You have {} guesses.\".format(len(random_word), \n",
      "                                                                             counter)\n",
      "    print(print_statement)\n",
      "    return print_statement\n",
      "\n",
      "\n",
      "# add to display function    print('_ '*len(random_word))\n",
      "\n",
      "\n",
      "def change_count_guess(counter):\n",
      "    if guess not in random_word:\n",
      "        counter = (counter - 1)\n",
      "        guessed.append(guess)\n",
      "        print(\"You have {} guesses left.\".format(counter))\n",
      "    return counter\n",
      "\n",
      "def display_counter():\n",
      "    print(\"You have {} guesses left.\".format(counter))\n",
      "\n",
      "def correct_guess(guess):\n",
      "    if guess in random_word:\n",
      "        revealed.append(guess)\n",
      "        print(\"You have {} guesses left.\".format(counter))\n",
      "    return revealed\n",
      "\n",
      "\n",
      "def display_correct_guesses(guess):\n",
      "    print(\" \".join(char if char in revealed else \"_\" for char in random_word))\n",
      "    return (\" \".join(char if char in revealed else \"_\" for char\n",
      "                                        in random_word))\n",
      "\n",
      "\n",
      "def get_guess():\n",
      "    guess = input(\"What's your guess?  \").lower()\n",
      "    if guess in re.search[a-z]:\n",
      "        return guess\n",
      "\n",
      "\n",
      "game_intro(random_word_assignment(), counter)\n",
      "while counter > 0:\n",
      "    guess = input(\"What's your guess?  \")\n",
      "    if guess in random_word:\n",
      "        correct_guess(guess)\n",
      "        display_correct_guesses(guess)\n",
      "        print(\"Good job!\") \n",
      "        display_counter()\n",
      "    elif guess not in random_word:\n",
      "        change_count_guess(counter)\n",
      "        display_correct_guesses(guess)\n",
      "        print(\"Nope\")\n",
      "    elif guess not in re.search[a-z]:\n",
      "        print(\"{} is not a valid choice. Try again.\".format(guess))\n",
      "    else:\n",
      "        break\n",
      "        \n",
      "\n",
      "\n"
     ],
     "language": "python",
     "metadata": {},
     "outputs": [
      {
       "output_type": "stream",
       "stream": "stdout",
       "text": [
        "The word has 9 letters. You have 8 guesses.\n"
       ]
      },
      {
       "name": "stdout",
       "output_type": "stream",
       "stream": "stdout",
       "text": [
        "What's your guess?  a\n"
       ]
      },
      {
       "output_type": "stream",
       "stream": "stdout",
       "text": [
        "You have 7 guesses left.\n",
        "_ _ _ _ _ _ _ _ _\n",
        "Nope\n"
       ]
      },
      {
       "name": "stdout",
       "output_type": "stream",
       "stream": "stdout",
       "text": [
        "What's your guess?  e\n"
       ]
      },
      {
       "output_type": "stream",
       "stream": "stdout",
       "text": [
        "You have 8 guesses left.\n",
        "_ _ e _ _ _ _ e _\n",
        "Good job!\n",
        "You have 8 guesses left.\n"
       ]
      },
      {
       "name": "stdout",
       "output_type": "stream",
       "stream": "stdout",
       "text": [
        "What's your guess?  4\n"
       ]
      },
      {
       "output_type": "stream",
       "stream": "stdout",
       "text": [
        "You have 7 guesses left.\n",
        "_ _ e _ _ _ _ e _\n",
        "Nope\n"
       ]
      },
      {
       "name": "stdout",
       "output_type": "stream",
       "stream": "stdout",
       "text": [
        "What's your guess?  5\n"
       ]
      },
      {
       "output_type": "stream",
       "stream": "stdout",
       "text": [
        "You have 7 guesses left.\n",
        "_ _ e _ _ _ _ e _\n",
        "Nope\n"
       ]
      },
      {
       "name": "stdout",
       "output_type": "stream",
       "stream": "stdout",
       "text": [
        "What's your guess?  \n"
       ]
      },
      {
       "output_type": "stream",
       "stream": "stdout",
       "text": [
        "You have 8 guesses left.\n",
        "_ _ e _ _ _ _ e _\n",
        "Good job!\n",
        "You have 8 guesses left.\n"
       ]
      },
      {
       "name": "stdout",
       "output_type": "stream",
       "stream": "stdout",
       "text": [
        "What's your guess?  .\n"
       ]
      },
      {
       "output_type": "stream",
       "stream": "stdout",
       "text": [
        "You have 7 guesses left.\n",
        "_ _ e _ _ _ _ e _\n",
        "Nope\n"
       ]
      },
      {
       "name": "stdout",
       "output_type": "stream",
       "stream": "stdout",
       "text": [
        "What's your guess?  ,\n"
       ]
      },
      {
       "output_type": "stream",
       "stream": "stdout",
       "text": [
        "You have 7 guesses left.\n",
        "_ _ e _ _ _ _ e _\n",
        "Nope\n"
       ]
      },
      {
       "ename": "KeyboardInterrupt",
       "evalue": "",
       "output_type": "pyerr",
       "traceback": [
        "\u001b[0;31m---------------------------------------------------------------------------\u001b[0m\n\u001b[0;31mKeyboardInterrupt\u001b[0m                         Traceback (most recent call last)",
        "\u001b[0;32m<ipython-input-8-18aa1e3bda50>\u001b[0m in \u001b[0;36m<module>\u001b[0;34m()\u001b[0m\n\u001b[1;32m     59\u001b[0m \u001b[0mgame_intro\u001b[0m\u001b[0;34m(\u001b[0m\u001b[0mrandom_word_assignment\u001b[0m\u001b[0;34m(\u001b[0m\u001b[0;34m)\u001b[0m\u001b[0;34m,\u001b[0m \u001b[0mcounter\u001b[0m\u001b[0;34m)\u001b[0m\u001b[0;34m\u001b[0m\u001b[0m\n\u001b[1;32m     60\u001b[0m \u001b[0;32mwhile\u001b[0m \u001b[0mcounter\u001b[0m \u001b[0;34m>\u001b[0m \u001b[0;36m0\u001b[0m\u001b[0;34m:\u001b[0m\u001b[0;34m\u001b[0m\u001b[0m\n\u001b[0;32m---> 61\u001b[0;31m     \u001b[0mguess\u001b[0m \u001b[0;34m=\u001b[0m \u001b[0minput\u001b[0m\u001b[0;34m(\u001b[0m\u001b[0;34m\"What's your guess?  \"\u001b[0m\u001b[0;34m)\u001b[0m\u001b[0;34m\u001b[0m\u001b[0m\n\u001b[0m\u001b[1;32m     62\u001b[0m     \u001b[0;32mif\u001b[0m \u001b[0mguess\u001b[0m \u001b[0;32min\u001b[0m \u001b[0mrandom_word\u001b[0m\u001b[0;34m:\u001b[0m\u001b[0;34m\u001b[0m\u001b[0m\n\u001b[1;32m     63\u001b[0m         \u001b[0mcorrect_guess\u001b[0m\u001b[0;34m(\u001b[0m\u001b[0mguess\u001b[0m\u001b[0;34m)\u001b[0m\u001b[0;34m\u001b[0m\u001b[0m\n",
        "\u001b[0;32m/Users/deanfitzgerald/.pyenv/versions/sandbox/lib/python3.4/site-packages/IPython/kernel/zmq/ipkernel.py\u001b[0m in \u001b[0;36m<lambda>\u001b[0;34m(prompt)\u001b[0m\n\u001b[1;32m    361\u001b[0m         \u001b[0;31m# raw_input in the user namespace.\u001b[0m\u001b[0;34m\u001b[0m\u001b[0;34m\u001b[0m\u001b[0m\n\u001b[1;32m    362\u001b[0m         \u001b[0;32mif\u001b[0m \u001b[0mcontent\u001b[0m\u001b[0;34m.\u001b[0m\u001b[0mget\u001b[0m\u001b[0;34m(\u001b[0m\u001b[0;34m'allow_stdin'\u001b[0m\u001b[0;34m,\u001b[0m \u001b[0;32mFalse\u001b[0m\u001b[0;34m)\u001b[0m\u001b[0;34m:\u001b[0m\u001b[0;34m\u001b[0m\u001b[0m\n\u001b[0;32m--> 363\u001b[0;31m             \u001b[0mraw_input\u001b[0m \u001b[0;34m=\u001b[0m \u001b[0;32mlambda\u001b[0m \u001b[0mprompt\u001b[0m\u001b[0;34m=\u001b[0m\u001b[0;34m''\u001b[0m\u001b[0;34m:\u001b[0m \u001b[0mself\u001b[0m\u001b[0;34m.\u001b[0m\u001b[0m_raw_input\u001b[0m\u001b[0;34m(\u001b[0m\u001b[0mprompt\u001b[0m\u001b[0;34m,\u001b[0m \u001b[0mident\u001b[0m\u001b[0;34m,\u001b[0m \u001b[0mparent\u001b[0m\u001b[0;34m)\u001b[0m\u001b[0;34m\u001b[0m\u001b[0m\n\u001b[0m\u001b[1;32m    364\u001b[0m             \u001b[0minput\u001b[0m \u001b[0;34m=\u001b[0m \u001b[0;32mlambda\u001b[0m \u001b[0mprompt\u001b[0m\u001b[0;34m=\u001b[0m\u001b[0;34m''\u001b[0m\u001b[0;34m:\u001b[0m \u001b[0meval\u001b[0m\u001b[0;34m(\u001b[0m\u001b[0mraw_input\u001b[0m\u001b[0;34m(\u001b[0m\u001b[0mprompt\u001b[0m\u001b[0;34m)\u001b[0m\u001b[0;34m)\u001b[0m\u001b[0;34m\u001b[0m\u001b[0m\n\u001b[1;32m    365\u001b[0m         \u001b[0;32melse\u001b[0m\u001b[0;34m:\u001b[0m\u001b[0;34m\u001b[0m\u001b[0m\n",
        "\u001b[0;32m/Users/deanfitzgerald/.pyenv/versions/sandbox/lib/python3.4/site-packages/IPython/kernel/zmq/ipkernel.py\u001b[0m in \u001b[0;36m_raw_input\u001b[0;34m(self, prompt, ident, parent)\u001b[0m\n\u001b[1;32m    763\u001b[0m             \u001b[0;32mexcept\u001b[0m \u001b[0mKeyboardInterrupt\u001b[0m\u001b[0;34m:\u001b[0m\u001b[0;34m\u001b[0m\u001b[0m\n\u001b[1;32m    764\u001b[0m                 \u001b[0;31m# re-raise KeyboardInterrupt, to truncate traceback\u001b[0m\u001b[0;34m\u001b[0m\u001b[0;34m\u001b[0m\u001b[0m\n\u001b[0;32m--> 765\u001b[0;31m                 \u001b[0;32mraise\u001b[0m \u001b[0mKeyboardInterrupt\u001b[0m\u001b[0;34m\u001b[0m\u001b[0m\n\u001b[0m\u001b[1;32m    766\u001b[0m             \u001b[0;32melse\u001b[0m\u001b[0;34m:\u001b[0m\u001b[0;34m\u001b[0m\u001b[0m\n\u001b[1;32m    767\u001b[0m                 \u001b[0;32mbreak\u001b[0m\u001b[0;34m\u001b[0m\u001b[0m\n",
        "\u001b[0;31mKeyboardInterrupt\u001b[0m: "
       ]
      }
     ],
     "prompt_number": 8
    },
    {
     "cell_type": "code",
     "collapsed": false,
     "input": [],
     "language": "python",
     "metadata": {},
     "outputs": []
    }
   ],
   "metadata": {}
  }
 ]
}