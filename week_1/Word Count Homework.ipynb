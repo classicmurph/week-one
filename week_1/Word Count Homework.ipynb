{
 "metadata": {
  "name": "",
  "signature": "sha256:2da7f98a79fbf10c813cdc5821a118131f0ff329945617ef88e64c57219b5d4c"
 },
 "nbformat": 3,
 "nbformat_minor": 0,
 "worksheets": [
  {
   "cells": [
    {
     "cell_type": "code",
     "collapsed": false,
     "input": [
      "file = \"\"\"I am writing a large block of text so that I will have a sample of a large block of text for my function to act upon. Grateful, I am.\"\"\"\n",
      "\n",
      "import re\n",
      "import operator\n",
      "import collections\n",
      "\n",
      "\n",
      "def word_frequency(file):\n",
      "    \"\"\"This will count the words and print in a (word, count) format.\"\"\"\n",
      "    file = str(file)\n",
      "    words = {}\n",
      "    file = file.lower()\n",
      "    file = file.split()\n",
      "    for word in file:\n",
      "        word = re.sub(r'[^A-Za-z0-9]',\"\", word)\n",
      "        if word in words:\n",
      "            words[word] += 1\n",
      "        else:\n",
      "            words[word] = 1\n",
      "    for word, count in sorted(words.items(), key=operator.itemgetter(1), reverse=True):\n",
      "        return words\n",
      "    for word, count in words.most_common(20):\n",
      "        return {top_20_words}\n",
      "\n",
      "def top_20(top_20_words):\n",
      "    for word, count in {top_20_words}:\n",
      "        print (word, count)\n",
      "\n",
      "word_frequency(file)\n",
      "\n",
      "\n",
      "\n",
      "top_20(top_20)\n"
     ],
     "language": "python",
     "metadata": {},
     "outputs": [
      {
       "ename": "TypeError",
       "evalue": "'function' object is not iterable",
       "output_type": "pyerr",
       "traceback": [
        "\u001b[0;31m---------------------------------------------------------------------------\u001b[0m\n\u001b[0;31mTypeError\u001b[0m                                 Traceback (most recent call last)",
        "\u001b[0;32m<ipython-input-8-0388e06c4e2a>\u001b[0m in \u001b[0;36m<module>\u001b[0;34m()\u001b[0m\n\u001b[1;32m     31\u001b[0m \u001b[0;34m\u001b[0m\u001b[0m\n\u001b[1;32m     32\u001b[0m \u001b[0;34m\u001b[0m\u001b[0m\n\u001b[0;32m---> 33\u001b[0;31m \u001b[0mtop_20\u001b[0m\u001b[0;34m(\u001b[0m\u001b[0mtop_20\u001b[0m\u001b[0;34m)\u001b[0m\u001b[0;34m\u001b[0m\u001b[0m\n\u001b[0m",
        "\u001b[0;32m<ipython-input-8-0388e06c4e2a>\u001b[0m in \u001b[0;36mtop_20\u001b[0;34m(top_20_words)\u001b[0m\n\u001b[1;32m     24\u001b[0m \u001b[0;34m\u001b[0m\u001b[0m\n\u001b[1;32m     25\u001b[0m \u001b[0;32mdef\u001b[0m \u001b[0mtop_20\u001b[0m\u001b[0;34m(\u001b[0m\u001b[0mtop_20_words\u001b[0m\u001b[0;34m)\u001b[0m\u001b[0;34m:\u001b[0m\u001b[0;34m\u001b[0m\u001b[0m\n\u001b[0;32m---> 26\u001b[0;31m     \u001b[0;32mfor\u001b[0m \u001b[0mword\u001b[0m\u001b[0;34m,\u001b[0m \u001b[0mcount\u001b[0m \u001b[0;32min\u001b[0m \u001b[0;34m{\u001b[0m\u001b[0mtop_20_words\u001b[0m\u001b[0;34m}\u001b[0m\u001b[0;34m:\u001b[0m\u001b[0;34m\u001b[0m\u001b[0m\n\u001b[0m\u001b[1;32m     27\u001b[0m         \u001b[0mprint\u001b[0m \u001b[0;34m(\u001b[0m\u001b[0mword\u001b[0m\u001b[0;34m,\u001b[0m \u001b[0mcount\u001b[0m\u001b[0;34m)\u001b[0m\u001b[0;34m\u001b[0m\u001b[0m\n\u001b[1;32m     28\u001b[0m \u001b[0;34m\u001b[0m\u001b[0m\n",
        "\u001b[0;31mTypeError\u001b[0m: 'function' object is not iterable"
       ]
      }
     ],
     "prompt_number": 8
    },
    {
     "cell_type": "code",
     "collapsed": false,
     "input": [],
     "language": "python",
     "metadata": {},
     "outputs": [],
     "prompt_number": 4
    },
    {
     "cell_type": "code",
     "collapsed": false,
     "input": [],
     "language": "python",
     "metadata": {},
     "outputs": []
    }
   ],
   "metadata": {}
  }
 ]
}