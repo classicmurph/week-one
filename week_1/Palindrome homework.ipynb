{
 "metadata": {
  "name": "",
  "signature": "sha256:8ac88182a0fa893a5d7aeefa1f4850e7849b7c5269459c90f50aaa34e3bdefd9"
 },
 "nbformat": 3,
 "nbformat_minor": 0,
 "worksheets": [
  {
   "cells": [
    {
     "cell_type": "code",
     "collapsed": false,
     "input": [
      "import re\n",
      "text = input(\"Feed me text: \")\n",
      "\n",
      "def pal():\n",
      "    lower = (text).lower()\n",
      "    stripped = re.sub(r'[^A-Za-z]',\"\", lower)\n",
      "    rev = (stripped[::-1])\n",
      "    if rev == stripped:\n",
      "        return \"You have a palindrome!\"\n",
      "    else:\n",
      "        return \"This is not a palindrome.\"\n",
      "\n",
      "print(pal())    "
     ],
     "language": "python",
     "metadata": {},
     "outputs": [
      {
       "name": "stdout",
       "output_type": "stream",
       "stream": "stdout",
       "text": [
        "Feed me text: 12345654321\n"
       ]
      },
      {
       "output_type": "stream",
       "stream": "stdout",
       "text": [
        "You have a palindrome!\n"
       ]
      }
     ],
     "prompt_number": 19
    },
    {
     "cell_type": "code",
     "collapsed": false,
     "input": [
      "import re\n",
      "text = input(\"Feed me text: \")\n",
      "original_text = text\n",
      "\n",
      "def pal2(text):\n",
      "    lower = (text).lower() \n",
      "    stripped = re.sub(r'[^A-Za-z]',\"\", lower)\n",
      "    \n",
      "    if len(stripped) <= 1:\n",
      "        return \"{} is a palindrome.\".format(original_text)\n",
      "        \n",
      "    elif stripped[0] == stripped[-1]:    \n",
      "        text1 = stripped[1:-1]\n",
      "        return pal2(text1)\n",
      "        \n",
      "    \n",
      "    elif text[0] != text[-1]:\n",
      "        return (\"This is not a palindrome.\")\n",
      "    \n",
      "              \n",
      "\n",
      "print(pal2(text))"
     ],
     "language": "python",
     "metadata": {},
     "outputs": [
      {
       "name": "stdout",
       "output_type": "stream",
       "stream": "stdout",
       "text": [
        "Feed me text: racecar\n"
       ]
      },
      {
       "output_type": "stream",
       "stream": "stdout",
       "text": [
        "racecar is a palindrome.\n"
       ]
      }
     ],
     "prompt_number": 16
    },
    {
     "cell_type": "code",
     "collapsed": false,
     "input": [
      "\"\"\"Found this on the web\"\"\"\n",
      "\n",
      "def isPalindrome(S):\n",
      "\n",
      "        # Remove spaces in the string\n",
      "\n",
      "        N = S.split()\n",
      "\n",
      "        N = S.join(N)\n",
      "\n",
      "        if len(N) == 1 or len(N) == 0:\n",
      "\n",
      "            return True\n",
      "            print(True)\n",
      "\n",
      "        else:\n",
      "\n",
      "            if N[0] == N[-1] and isPalindrome(N[1:-1]):\n",
      "\n",
      "                return True\n",
      "                print(True)\n",
      "\n",
      "            else:\n",
      "    \n",
      "                return False\n",
      "                print(False)"
     ],
     "language": "python",
     "metadata": {},
     "outputs": []
    },
    {
     "cell_type": "code",
     "collapsed": false,
     "input": [
      "import re\n",
      "text = input(\"Feed me text: \")\n",
      "original_text = text\n",
      "\n",
      "def pal2(text):\n",
      "    lower = (text).lower()\n",
      "    stripped = re.sub(r'[^A-Za-z]',\"\", lower)\n",
      "\n",
      "    if len(stripped) <= 1:\n",
      "        return \"{} is a palindrome.\".format(original_text)\n",
      "\n",
      "    elif stripped[0] == stripped[-1]:\n",
      "        text1 = stripped[1:-1]\n",
      "        return pal2(text1)\n",
      "\n",
      "\n",
      "    elif text[0] != text[-1]:\n",
      "        return (\"This is not a palindrome.\")\n",
      "\n",
      "\n",
      "\n",
      "print(pal2(text))"
     ],
     "language": "python",
     "metadata": {},
     "outputs": [
      {
       "name": "stdout",
       "output_type": "stream",
       "stream": "stdout",
       "text": [
        "Feed me text: Doc, note, I dissent. A fast never prevents a fatness. I diet on cod.\n"
       ]
      },
      {
       "output_type": "stream",
       "stream": "stdout",
       "text": [
        "Doc, note, I dissent. A fast never prevents a fatness. I diet on cod. is a palindrome.\n"
       ]
      }
     ],
     "prompt_number": 3
    },
    {
     "cell_type": "code",
     "collapsed": false,
     "input": [],
     "language": "python",
     "metadata": {},
     "outputs": []
    }
   ],
   "metadata": {}
  }
 ]
}