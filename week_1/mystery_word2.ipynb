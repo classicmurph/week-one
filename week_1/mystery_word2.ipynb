{
 "metadata": {
  "name": "",
  "signature": "sha256:33e6ac89a413f732e42bea26319e9dbd2fac69dd7751ea38e888005c34ee2874"
 },
 "nbformat": 3,
 "nbformat_minor": 0,
 "worksheets": [
  {
   "cells": [
    {
     "cell_type": "code",
     "collapsed": false,
     "input": [
      "# This is a guess the number game.\n",
      "import random\n",
      "guessesTaken = 0\n",
      "print('Hello! What is your name?')\n",
      "myName = input()\n",
      "number = random.randint(1, 20)\n",
      "print('Well, ' + myName + ', I am thinking of a number between 1 and 20.')\n",
      "while guessesTaken < 6:\n",
      "    print('Take a guess.') # There are four spaces in front of print.\n",
      "    guess = input()\n",
      "    guess = int(guess)\n",
      "    guessesTaken = guessesTaken + 1\n",
      "    if guess < number:\n",
      "        print('Your guess is too low.') # There are eight spaces in front of print.\n",
      "    if guess > number:\n",
      "        print('Your guess is too high.')\n",
      "    if guess == number:\n",
      "        break\n",
      "if guess == number:\n",
      "    guessesTaken = str(guessesTaken)\n",
      "    print('Good job, ' + myName + '! You guessed my number in ' + guessesTaken + ' guesses!')\n",
      "if guess != number:\n",
      "    number = str(number)\n",
      "    print('Nope. The number I was thinking of was ' + number)"
     ],
     "language": "python",
     "metadata": {},
     "outputs": [
      {
       "output_type": "stream",
       "stream": "stdout",
       "text": [
        "Hello! What is your name?\n"
       ]
      },
      {
       "name": "stdout",
       "output_type": "stream",
       "stream": "stdout",
       "text": [
        "DEan\n"
       ]
      },
      {
       "output_type": "stream",
       "stream": "stdout",
       "text": [
        "Well, DEan, I am thinking of a number between 1 and 20.\n",
        "Take a guess.\n"
       ]
      },
      {
       "name": "stdout",
       "output_type": "stream",
       "stream": "stdout",
       "text": [
        "3\n"
       ]
      },
      {
       "output_type": "stream",
       "stream": "stdout",
       "text": [
        "Your guess is too low.\n",
        "Take a guess.\n"
       ]
      },
      {
       "name": "stdout",
       "output_type": "stream",
       "stream": "stdout",
       "text": [
        "2\n"
       ]
      },
      {
       "output_type": "stream",
       "stream": "stdout",
       "text": [
        "Your guess is too low.\n",
        "Take a guess.\n"
       ]
      },
      {
       "name": "stdout",
       "output_type": "stream",
       "stream": "stdout",
       "text": [
        "2\n"
       ]
      },
      {
       "output_type": "stream",
       "stream": "stdout",
       "text": [
        "Your guess is too low.\n",
        "Take a guess.\n"
       ]
      },
      {
       "name": "stdout",
       "output_type": "stream",
       "stream": "stdout",
       "text": [
        "21\n"
       ]
      },
      {
       "output_type": "stream",
       "stream": "stdout",
       "text": [
        "Your guess is too high.\n",
        "Take a guess.\n"
       ]
      },
      {
       "name": "stdout",
       "output_type": "stream",
       "stream": "stdout",
       "text": [
        "1\n"
       ]
      },
      {
       "output_type": "stream",
       "stream": "stdout",
       "text": [
        "Your guess is too low.\n",
        "Take a guess.\n"
       ]
      },
      {
       "name": "stdout",
       "output_type": "stream",
       "stream": "stdout",
       "text": [
        "0\n"
       ]
      },
      {
       "output_type": "stream",
       "stream": "stdout",
       "text": [
        "Your guess is too low.\n",
        "Nope. The number I was thinking of was 10\n"
       ]
      }
     ],
     "prompt_number": 3
    },
    {
     "cell_type": "code",
     "collapsed": false,
     "input": [
      "import random\n",
      "import re\n",
      "\n",
      "with open(\"/usr/share/dict/words\") as w:\n",
      "    word_list = w.readlines()\n",
      "\n",
      "counter = 8\n",
      "guessed = []\n",
      "revealed = []\n",
      "counter_statement = \"You have {} guesses left.\".format(counter)\n",
      "\n",
      "def random_word_assignment():\n",
      "    global random_word\n",
      "    random_word = random.choice(word_list).strip().lower()\n",
      "    return random_word\n",
      "\n",
      "\n",
      "def game_intro(random_word, counter):\n",
      "    print_statement = \"The word has {} letters. You have {} guesses.\".format(len(random_word), \n",
      "                                                                             counter)\n",
      "    print(print_statement)\n",
      "    return print_statement\n",
      "\n",
      "\n",
      "def change_count_guess(counter):\n",
      "    counter -= 1\n",
      "    guessed.append(guess)\n",
      "    print(counter_statement)\n",
      "    return counter\n",
      "\n",
      "def display_counter():\n",
      "    print(counter_statement)\n",
      "\n",
      "def correct_guess(guess):\n",
      "    if guess in random_word:\n",
      "        revealed.append(guess)\n",
      "        print(\"You have {} guesses left.\".format(counter))\n",
      "    return revealed\n",
      "\n",
      "\n",
      "def display_correct_guesses(guess):\n",
      "    print(\" \".join(char if char in revealed else \"_\" for char in random_word))\n",
      "    return (\" \".join(char if char in revealed else \"_\" for char\n",
      "                                        in random_word))\n",
      "\n",
      "\n",
      "def get_guess():\n",
      "    guess = input(\"What's your guess?  \").lower()\n",
      "    if guess in re.search[a-z]:\n",
      "        return str(guess)\n",
      "        print(guess)\n",
      "    else:\n",
      "        print(\"{} is not a valid choice. Try again.\".format(guess))\n",
      "\n",
      "\n",
      "game_intro(random_word_assignment(), counter)\n",
      "\n",
      "while True:\n",
      "    while counter > 0:\n",
      "        guess = input(\"What's your guess?  \")\n",
      "#    get_guess()\n",
      "        if guess in random_word:\n",
      "            correct_guess(guess)\n",
      "            display_correct_guesses(guess)\n",
      "            print(\"Good job!\") \n",
      "            display_counter()\n",
      "        elif guess not in random_word:\n",
      "#             change_count_guess(counter)\n",
      "            counter -= 1\n",
      "            display_correct_guesses(guess)\n",
      "            print(\"Nope.\" + counter_statement)\n",
      "#     elif counter == 0:\n",
      "#         print(\"You have run out of guesses. The word is {}.\".format(random_word))\n",
      "        else:\n",
      "            break\n",
      "    else:\n",
      "        print(\"You have run out of guesses. The word is {}.\".format(random_word))\n",
      "        break\n",
      "\n",
      "# Loop is not working, correct guess resets counter to 8, still accepts non-letters\n",
      "# does not know when user has won.\n",
      "\n",
      "\n"
     ],
     "language": "python",
     "metadata": {},
     "outputs": [
      {
       "output_type": "stream",
       "stream": "stdout",
       "text": [
        "The word has 11 letters. You have 8 guesses.\n"
       ]
      },
      {
       "name": "stdout",
       "output_type": "stream",
       "stream": "stdout",
       "text": [
        "What's your guess?  a\n"
       ]
      },
      {
       "output_type": "stream",
       "stream": "stdout",
       "text": [
        "You have 8 guesses left.\n",
        "_ a _ _ _ _ _ _ _ _ a\n",
        "Good job!\n",
        "You have 8 guesses left.\n"
       ]
      },
      {
       "name": "stdout",
       "output_type": "stream",
       "stream": "stdout",
       "text": [
        "What's your guess?  e\n"
       ]
      },
      {
       "output_type": "stream",
       "stream": "stdout",
       "text": [
        "_ a _ _ _ _ _ _ _ _ a\n",
        "Nope.You have 8 guesses left.\n"
       ]
      },
      {
       "name": "stdout",
       "output_type": "stream",
       "stream": "stdout",
       "text": [
        "What's your guess?  f\n"
       ]
      },
      {
       "output_type": "stream",
       "stream": "stdout",
       "text": [
        "_ a _ _ _ _ _ _ _ _ a\n",
        "Nope.You have 8 guesses left.\n"
       ]
      },
      {
       "name": "stdout",
       "output_type": "stream",
       "stream": "stdout",
       "text": [
        "What's your guess?  c\n"
       ]
      },
      {
       "output_type": "stream",
       "stream": "stdout",
       "text": [
        "You have 6 guesses left.\n",
        "c a c _ _ _ _ c _ _ a\n",
        "Good job!\n",
        "You have 8 guesses left.\n"
       ]
      },
      {
       "name": "stdout",
       "output_type": "stream",
       "stream": "stdout",
       "text": [
        "What's your guess?  h\n"
       ]
      },
      {
       "output_type": "stream",
       "stream": "stdout",
       "text": [
        "You have 6 guesses left.\n",
        "c a c _ _ _ _ c h _ a\n",
        "Good job!\n",
        "You have 8 guesses left.\n"
       ]
      },
      {
       "name": "stdout",
       "output_type": "stream",
       "stream": "stdout",
       "text": [
        "What's your guess?  i\n"
       ]
      },
      {
       "output_type": "stream",
       "stream": "stdout",
       "text": [
        "You have 6 guesses left.\n",
        "c a c _ _ _ i c h i a\n",
        "Good job!\n",
        "You have 8 guesses left.\n"
       ]
      },
      {
       "name": "stdout",
       "output_type": "stream",
       "stream": "stdout",
       "text": [
        "What's your guess?  o\n"
       ]
      },
      {
       "output_type": "stream",
       "stream": "stdout",
       "text": [
        "You have 6 guesses left.\n",
        "c a c o _ _ i c h i a\n",
        "Good job!\n",
        "You have 8 guesses left.\n"
       ]
      },
      {
       "name": "stdout",
       "output_type": "stream",
       "stream": "stdout",
       "text": [
        "What's your guess?  n\n"
       ]
      },
      {
       "output_type": "stream",
       "stream": "stdout",
       "text": [
        "c a c o _ _ i c h i a\n",
        "Nope.You have 8 guesses left.\n"
       ]
      },
      {
       "name": "stdout",
       "output_type": "stream",
       "stream": "stdout",
       "text": [
        "What's your guess?  m\n"
       ]
      },
      {
       "output_type": "stream",
       "stream": "stdout",
       "text": [
        "c a c o _ _ i c h i a\n",
        "Nope.You have 8 guesses left.\n"
       ]
      },
      {
       "name": "stdout",
       "output_type": "stream",
       "stream": "stdout",
       "text": [
        "What's your guess?  l\n"
       ]
      },
      {
       "output_type": "stream",
       "stream": "stdout",
       "text": [
        "c a c o _ _ i c h i a\n",
        "Nope.You have 8 guesses left.\n"
       ]
      },
      {
       "name": "stdout",
       "output_type": "stream",
       "stream": "stdout",
       "text": [
        "What's your guess?  e\n"
       ]
      },
      {
       "output_type": "stream",
       "stream": "stdout",
       "text": [
        "c a c o _ _ i c h i a\n",
        "Nope.You have 8 guesses left.\n"
       ]
      },
      {
       "name": "stdout",
       "output_type": "stream",
       "stream": "stdout",
       "text": [
        "What's your guess?  r\n"
       ]
      },
      {
       "output_type": "stream",
       "stream": "stdout",
       "text": [
        "You have 2 guesses left.\n",
        "c a c o _ r i c h i a\n",
        "Good job!\n",
        "You have 8 guesses left.\n"
       ]
      },
      {
       "name": "stdout",
       "output_type": "stream",
       "stream": "stdout",
       "text": [
        "What's your guess?  t\n"
       ]
      },
      {
       "output_type": "stream",
       "stream": "stdout",
       "text": [
        "You have 2 guesses left.\n",
        "c a c o t r i c h i a\n",
        "Good job!\n",
        "You have 8 guesses left.\n"
       ]
      }
     ]
    },
    {
     "cell_type": "code",
     "collapsed": false,
     "input": [],
     "language": "python",
     "metadata": {},
     "outputs": []
    },
    {
     "cell_type": "code",
     "collapsed": false,
     "input": [],
     "language": "python",
     "metadata": {},
     "outputs": []
    }
   ],
   "metadata": {}
  }
 ]
}